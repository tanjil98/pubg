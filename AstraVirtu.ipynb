{
 "cells": [
  {
   "cell_type": "code",
   "execution_count": 7,
   "metadata": {},
   "outputs": [],
   "source": [
    "import turtle\n",
    "\n",
    "\n",
    "screen = turtle.Screen()\n",
    "screen.setup(width=800, height=600)\n",
    "screen.bgcolor(\"black\")\n",
    "\n",
    "t = turtle.Turtle()\n",
    "t.hideturtle()  \n",
    "t.color(\"white\")\n",
    "t.pensize(5)\n",
    "\n",
    "\n",
    "def write_text_animated(lines):\n",
    "   \n",
    "    y_start = 75  \n",
    "    for line in lines:\n",
    "       \n",
    "        t.penup()\n",
    "        text_width = len(line) * 20  \n",
    "        t.goto(-(text_width // 2), y_start)  \n",
    "        t.color(\"white\")\n",
    "\n",
    "       \n",
    "        for letter in line:\n",
    "            if letter == \" \":\n",
    "                t.forward(20)  \n",
    "            else:\n",
    "                for offset in [-1, 0, 1]:  \n",
    "                    t.penup()\n",
    "                    t.goto(t.xcor() + offset, t.ycor())\n",
    "                    t.write(letter, align=\"left\", font=(\"Courier\", 24, \"bold\"))\n",
    "                t.penup()\n",
    "                t.goto(t.xcor() + 20, t.ycor())  \n",
    "        y_start -= 40  \n",
    "\n",
    "\n",
    "lines = [\"ASTRA VIRTU\", \"SOLUTIONS LLC\"]\n",
    "\n",
    "write_text_animated(lines)  \n",
    "\n",
    "\n",
    "turtle.done()\n"
   ]
  }
 ],
 "metadata": {
  "kernelspec": {
   "display_name": "Python 3",
   "language": "python",
   "name": "python3"
  },
  "language_info": {
   "codemirror_mode": {
    "name": "ipython",
    "version": 3
   },
   "file_extension": ".py",
   "mimetype": "text/x-python",
   "name": "python",
   "nbconvert_exporter": "python",
   "pygments_lexer": "ipython3",
   "version": "3.13.1"
  }
 },
 "nbformat": 4,
 "nbformat_minor": 2
}
